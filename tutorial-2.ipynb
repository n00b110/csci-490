{
 "cells": [
  {
   "cell_type": "code",
   "execution_count": 2,
   "id": "852b23b2",
   "metadata": {},
   "outputs": [],
   "source": [
    "# Activity I\n",
    "\n",
    "integer_number = 2\n",
    "float_number = 2.0\n",
    "example_string = \"my name is AgentM\"\n",
    "example_tuple = (1, 2, 3, 4)\n",
    "example_int_list = [1, 2, 3, 4]\n",
    "example_dictionary = {'one': 1, 'two': 2, 'three': 3}"
   ]
  },
  {
   "cell_type": "code",
   "execution_count": 6,
   "id": "2bd7c99e",
   "metadata": {},
   "outputs": [],
   "source": [
    "# Activity II\n",
    "\n",
    "print(integer_number, float_number, example_string, example_tuple, example_int_list, example_dictionary)"
   ]
  },
  {
   "cell_type": "code",
   "execution_count": 7,
   "id": "16120b53",
   "metadata": {},
   "outputs": [],
   "source": [
    "# Activity III\n",
    "\n",
    "print(type(integer_number), type(float_number), type(example_string), type(example_tuple), type(example_int_list), type, example_dictionary)"
   ]
  },
  {
   "cell_type": "code",
   "execution_count": 8,
   "id": "66e944a6",
   "metadata": {},
   "outputs": [],
   "source": [
    "# Activity IV\n",
    "\n",
    "int(float_number)\n",
    "float(integer_number)\n",
    "int('2.0')\n",
    "int('2')\n",
    "float(2.0)\n",
    "str(1)"
   ]
  },
  {
   "cell_type": "code",
   "execution_count": 3,
   "id": "6bee08b4",
   "metadata": {},
   "outputs": [
    {
     "name": "stdout",
     "output_type": "stream",
     "text": [
      "Immanuel Olaoye\n",
      "['Patrick', 'Harold', 'John']\n"
     ]
    }
   ],
   "source": [
    "# Activity V\n",
    "\n",
    "my_name = \"Immanuel Olaoye\"\n",
    "my_name.upper()\n",
    "print(my_name)\n",
    "my_name_upper_case = my_name.upper()\n",
    "example_list = [\"John\", \"Harold\", \"Patrick\"]\n",
    "example_list.reverse()\n",
    "print(example_list)"
   ]
  },
  {
   "cell_type": "code",
   "execution_count": 4,
   "id": "4cc64bb4",
   "metadata": {},
   "outputs": [
    {
     "data": {
      "text/plain": [
       "4"
      ]
     },
     "execution_count": 4,
     "metadata": {},
     "output_type": "execute_result"
    }
   ],
   "source": [
    "# Activity VI\n",
    "\n",
    "len(example_string)\n",
    "len(example_tuple)\n",
    "len(example_list)"
   ]
  },
  {
   "cell_type": "code",
   "execution_count": 6,
   "id": "26c3cdc8",
   "metadata": {},
   "outputs": [
    {
     "name": "stdout",
     "output_type": "stream",
     "text": [
      "John\n",
      "n\n",
      "2\n"
     ]
    }
   ],
   "source": [
    "# Activity VII\n",
    "print(example_list[2])\n",
    "print(example_string[3])\n",
    "print(example_tuple[1])"
   ]
  },
  {
   "cell_type": "code",
   "execution_count": 7,
   "id": "e35d137d",
   "metadata": {},
   "outputs": [
    {
     "name": "stdout",
     "output_type": "stream",
     "text": [
      "1\n"
     ]
    }
   ],
   "source": [
    "# Activity VIII\n",
    "len(example_dictionary)\n",
    "print(example_dictionary[\"one\"])"
   ]
  },
  {
   "cell_type": "code",
   "execution_count": null,
   "id": "b4cb6b3e",
   "metadata": {},
   "outputs": [],
   "source": [
    "# Activity IX\n",
    "\n",
    "# Please add text cell to notebook to differentiate each \"Activity\""
   ]
  },
  {
   "cell_type": "code",
   "execution_count": null,
   "id": "64635028",
   "metadata": {},
   "outputs": [],
   "source": [
    "# Task I\n",
    "\n",
    "variable1 = 'Vijaya Yeruva'\n",
    "variable2 = ['Python', 'Machine Learning', 'Deep Learning']\n",
    "variable3 = (4, 9, 16, 25)\n",
    "variable4 = [2.0, 3.0, 5.0, 7.0, 11.0]\n",
    "variable5 = {'key1': 65537, 'key2': 1729, 'key3': 1806}\n",
    "variable6 = {'key1': 3.1415, 'key2': 2.68545, 'key3': 1.61803}\n",
    "variable7 = {1: 'Jaime', 2: 'Jack', 3: 'Joey'}\n",
    "variable8 = {1: ['Jaime', 'Jack', 'Joey'], 2:['Deo', 'Katie', 'Lauren'], 3:['Mustafa', 'Luke', 'M']}"
   ]
  },
  {
   "attachments": {},
   "cell_type": "markdown",
   "id": "17b01081",
   "metadata": {},
   "source": [
    "| variable 1 (data type)      | variable 2 (data type) | operation | result | Comments |\n",
    "| ----------- | ----------- | --------- | ------ | -------- |\n",
    "| 2 (int)      | 3 (int)       |      +     | 5 (int) | sum of two integers is an integer\n",
    "| '2' (str)   | '3' (str)         |      +     | '23' (str) | sum of two strings is a string\n",
    "| [1, 2, 3] (list) | [6, 12, 233] (list) | +   | [1, 2, 3, 6, 12, 233] | sums of two lists is a list"
   ]
  },
  {
   "attachments": {},
   "cell_type": "markdown",
   "id": "828f5872",
   "metadata": {},
   "source": [
    "### Activity XI\n",
    "\n",
    "1. What happens when you add two strings?\n",
    "\n",
    "If you add two strings your answer will be a string.\n",
    "\n",
    "2. What happens when you add an integer to a string? How would you properly dd an integer to a string? How would you properly add an integer to a string?\n",
    "\n",
    "You will get an error if you try to add an integer and a string.\n",
    "\n",
    "3. What happens when you added two lists?\n"
   ]
  },
  {
   "attachments": {},
   "cell_type": "markdown",
   "id": "ced34b5b",
   "metadata": {},
   "source": [
    "### Activity XII\n",
    "\n",
    "| variable 1 (data type)      | variable 2 (data type) | operation | result | Comments |\n",
    "| ----------- | ----------- | --------- | ------ | -------- |\n",
    "| 2 (int)      | 3 (int)       |      >     | False (boolean) | two is not greater than three\n",
    "| 12 (int)   | 9 (int)         |     =>     | True | twelve is greater or equal to nine\n",
    "| 1 (int)   | 4 (int)         |     <     | True | one is less or four so that statement is true\n",
    "| 7 (int) | 7 (int) | !=   | False | 7 is equal to 7, so that statement is false\n",
    "| 10 (int) | 10 (int) | ==   | True | 10 is equal to 10, so that statement is true\n",
    "| 12 (int) | 24 (int) | <=   | True | 12 is less than or equal to 24, so that statement is true\n"
   ]
  },
  {
   "attachments": {},
   "cell_type": "markdown",
   "id": "339c47fc",
   "metadata": {},
   "source": [
    "### Activity XII\n",
    "\n",
    "| variable 1 (data type)      | variable 2 (data type) | operation | result | Comments |\n",
    "| ----------- | ----------- | --------- | ------ | -------- |\n",
    "| 2 (int)      | 3 (int)       |      >     | False (boolean) | two is not greater than three\n",
    "| 12 (int)   | 9 (int)         |     =>     | True | twelve is greater or equal to nine\n",
    "| 1 (int)   | 4 (int)         |     <     | True | one is less or four so that statement is true\n",
    "| 7 (int) | 7 (int) | !=   | False | 7 is equal to 7, so that statement is false\n",
    "| 10 (int) | 10 (int) | ==   | True | 10 is equal to 10, so that statement is true\n",
    "| 12 (int) | 24 (int) | <=   | True | 12 is less than or equal to 24, so that statement is true\n"
   ]
  },
  {
   "cell_type": "code",
   "execution_count": 8,
   "id": "bb68934d",
   "metadata": {},
   "outputs": [
    {
     "name": "stdout",
     "output_type": "stream",
     "text": [
      "Hello World!\n"
     ]
    }
   ],
   "source": [
    "# Activity XIV\n",
    "\n",
    "if 1 == 1:\n",
    "    print(\"Hello World!\")\n",
    "else:\n",
    "    print(\"Goodbye, World!\")"
   ]
  },
  {
   "cell_type": "code",
   "execution_count": 9,
   "id": "293b88b2",
   "metadata": {},
   "outputs": [
    {
     "name": "stdout",
     "output_type": "stream",
     "text": [
      "Hello World!\n"
     ]
    }
   ],
   "source": [
    "# Activity XV\n",
    "\n",
    "if 1 == 1:\n",
    "    print(\"Hello World!\")\n",
    "elif 1 == 2:\n",
    "    print(\"Goodbye, World!\")\n",
    "else:\n",
    "    print(\"See you later, world!\")"
   ]
  },
  {
   "cell_type": "code",
   "execution_count": 10,
   "id": "fac0e178",
   "metadata": {},
   "outputs": [
    {
     "name": "stdout",
     "output_type": "stream",
     "text": [
      "Hello World!\n",
      "Hello World!\n",
      "Hello World!\n",
      "Hello World!\n",
      "Hello World!\n",
      "Hello World!\n"
     ]
    }
   ],
   "source": [
    "# Activity XVI\n",
    "\n",
    "iteration = 5\n",
    "while iteration != -1:\n",
    "    print(\"Hello World!\")\n",
    "    iteration -= 1\n",
    "    "
   ]
  },
  {
   "cell_type": "code",
   "execution_count": null,
   "metadata": {},
   "outputs": [],
   "source": [
    "# Activity XVII\n",
    "\n",
    "iteration = 12\n",
    "while iteration1 > 0:\n",
    "    print(\"Hello World!\")\n",
    "    iteration -= 2"
   ]
  },
  {
   "cell_type": "code",
   "execution_count": null,
   "id": "5c6d371f",
   "metadata": {},
   "outputs": [],
   "source": [
    "# Task II\n",
    "\n",
    "# Example I\n",
    "\n",
    "def print_name():\n",
    "    print(\"Immanuel Olaoye\")\n"
   ]
  },
  {
   "cell_type": "code",
   "execution_count": null,
   "id": "16c7ebe0",
   "metadata": {},
   "outputs": [],
   "source": [
    "# Example II\n",
    "\n",
    "def hypotenuse(a, b):\n",
    "    hypo = (a**2) + (b**2)\n",
    "    return hypo**2"
   ]
  },
  {
   "cell_type": "code",
   "execution_count": null,
   "id": "f2e50edf",
   "metadata": {},
   "outputs": [],
   "source": [
    "# Example III\n",
    "\n",
    "# Part A\n",
    "\n",
    "def return_five():\n",
    "    return 5\n",
    "\n",
    "def square(x):\n",
    "    return x**2\n",
    "\n",
    "for n in range(10):\n",
    "    square(return_five(5))"
   ]
  },
  {
   "cell_type": "code",
   "execution_count": null,
   "id": "86b6967c",
   "metadata": {},
   "outputs": [],
   "source": [
    "# Task 3\n",
    "\n",
    "\n",
    "# a. Fill in the function which should compute the euclidean distance 2 between two points\n",
    "def euclidean_distance(x, y):\n",
    "\te_distance = 0\n",
    "\te_distance = (((x[2] - x[1])**2) - (y[2] - x[1])**2)\n",
    "\treturn e_distance\n",
    "\n",
    "\n",
    "# b. Fill in the function which should compute the area of a circle\n",
    "def circle_area(r):\n",
    "\tc_area = 0.0\n",
    "\tpi = 3.14\n",
    "\tc_area = pi*r**2\n",
    "\treturn c_area\n",
    "\n",
    "# c. c. Fill in the function which should compute the square of the values in the dictionary\n",
    "def square_of_dict_values(myDict):\n",
    "\tmyDict_square = {}\n",
    "\tfor k in myDict:\n",
    "\t\tfor v in k:\n",
    "\t\t\tmyDict[k] **= 2\n",
    "\n",
    "\treturn myDict_square"
   ]
  }
 ],
 "metadata": {
  "kernelspec": {
   "display_name": "venv",
   "language": "python",
   "name": "python3"
  },
  "language_info": {
   "codemirror_mode": {
    "name": "ipython",
    "version": 3
   },
   "file_extension": ".py",
   "mimetype": "text/x-python",
   "name": "python",
   "nbconvert_exporter": "python",
   "pygments_lexer": "ipython3",
   "version": "3.10.9"
  },
  "vscode": {
   "interpreter": {
    "hash": "ea6617d2cc64d94b11a2012512b29a128c92bba643591f8ff6ee8d6ec5ab5555"
   }
  }
 },
 "nbformat": 4,
 "nbformat_minor": 5
}
